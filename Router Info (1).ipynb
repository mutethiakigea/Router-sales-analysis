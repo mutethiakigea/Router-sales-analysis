{
 "cells": [
  {
   "cell_type": "code",
   "execution_count": 1,
   "id": "d184448e",
   "metadata": {},
   "outputs": [],
   "source": [
    "# importing libraries\n",
    "import pandas as pd\n",
    "import numpy as np\n",
    "import matplotlib.pyplot as plt"
   ]
  },
  {
   "cell_type": "code",
   "execution_count": 2,
   "id": "6ccedf9f",
   "metadata": {},
   "outputs": [],
   "source": [
    "#loading datasets\n",
    "customers=pd.read_csv(\"customers.csv\")\n",
    "routers=pd.read_csv(\"Router_info.csv\")\n",
    "orders=pd.read_csv(\"orders.csv\")"
   ]
  },
  {
   "cell_type": "markdown",
   "id": "ad6a76d4",
   "metadata": {},
   "source": [
    "### EDA"
   ]
  },
  {
   "cell_type": "code",
   "execution_count": 41,
   "id": "c2c50ca6",
   "metadata": {},
   "outputs": [
    {
     "data": {
      "text/html": [
       "<div>\n",
       "<style scoped>\n",
       "    .dataframe tbody tr th:only-of-type {\n",
       "        vertical-align: middle;\n",
       "    }\n",
       "\n",
       "    .dataframe tbody tr th {\n",
       "        vertical-align: top;\n",
       "    }\n",
       "\n",
       "    .dataframe thead th {\n",
       "        text-align: right;\n",
       "    }\n",
       "</style>\n",
       "<table border=\"1\" class=\"dataframe\">\n",
       "  <thead>\n",
       "    <tr style=\"text-align: right;\">\n",
       "      <th></th>\n",
       "      <th>CustomerID</th>\n",
       "      <th>ZipeCode</th>\n",
       "    </tr>\n",
       "  </thead>\n",
       "  <tbody>\n",
       "    <tr>\n",
       "      <th>count</th>\n",
       "      <td>499.000000</td>\n",
       "      <td>499.000000</td>\n",
       "    </tr>\n",
       "    <tr>\n",
       "      <th>mean</th>\n",
       "      <td>1250.000000</td>\n",
       "      <td>47223.328657</td>\n",
       "    </tr>\n",
       "    <tr>\n",
       "      <th>std</th>\n",
       "      <td>144.193157</td>\n",
       "      <td>27947.875892</td>\n",
       "    </tr>\n",
       "    <tr>\n",
       "      <th>min</th>\n",
       "      <td>1001.000000</td>\n",
       "      <td>178.000000</td>\n",
       "    </tr>\n",
       "    <tr>\n",
       "      <th>25%</th>\n",
       "      <td>1125.500000</td>\n",
       "      <td>24840.000000</td>\n",
       "    </tr>\n",
       "    <tr>\n",
       "      <th>50%</th>\n",
       "      <td>1250.000000</td>\n",
       "      <td>44403.000000</td>\n",
       "    </tr>\n",
       "    <tr>\n",
       "      <th>75%</th>\n",
       "      <td>1374.500000</td>\n",
       "      <td>69149.500000</td>\n",
       "    </tr>\n",
       "    <tr>\n",
       "      <th>max</th>\n",
       "      <td>1499.000000</td>\n",
       "      <td>99629.000000</td>\n",
       "    </tr>\n",
       "  </tbody>\n",
       "</table>\n",
       "</div>"
      ],
      "text/plain": [
       "        CustomerID      ZipeCode\n",
       "count   499.000000    499.000000\n",
       "mean   1250.000000  47223.328657\n",
       "std     144.193157  27947.875892\n",
       "min    1001.000000    178.000000\n",
       "25%    1125.500000  24840.000000\n",
       "50%    1250.000000  44403.000000\n",
       "75%    1374.500000  69149.500000\n",
       "max    1499.000000  99629.000000"
      ]
     },
     "execution_count": 41,
     "metadata": {},
     "output_type": "execute_result"
    }
   ],
   "source": [
    "customers.describe()"
   ]
  },
  {
   "cell_type": "code",
   "execution_count": 42,
   "id": "aa76acbf",
   "metadata": {},
   "outputs": [
    {
     "data": {
      "text/plain": [
       "<bound method DataFrame.info of      CustomerID  FirstName  LastName                 StreetAddress  \\\n",
       "0          1001     Wesley   Solomon    175 Green Clarendon Avenue   \n",
       "1          1002       Dean   Bernard             956 Second Street   \n",
       "2          1003    Valerie  Schwartz              83 Milton Avenue   \n",
       "3          1004    Loretta     Ewing           565 White First St.   \n",
       "4          1005       Noah      Boyd     35 South Green Oak Avenue   \n",
       "..          ...        ...       ...                           ...   \n",
       "494        1495    Melissa   Miranda                   28 Old Road   \n",
       "495        1496  Gabrielle    Pierce              74 Fabien Avenue   \n",
       "496        1497     Ginger   O'Neill  83 Green Clarendon Boulevard   \n",
       "497        1498      Ramon     Rubio               13 West Old St.   \n",
       "498        1499      Frank     Walls          952 White Nobel Road   \n",
       "\n",
       "           City      State  ZipeCode     Telephone  \n",
       "0        Toledo       Utah     55933    9613675297  \n",
       "1    Washington      Texas     94778    6294571987  \n",
       "2         Miami   Nebraska     67569  679-609-0243  \n",
       "3       Phoenix   Delaware     39399   239407-8990  \n",
       "4       Detroit    Montana     59454   436931-2419  \n",
       "..          ...        ...       ...           ...  \n",
       "494    Portland     Oregon     22619  122-879-9719  \n",
       "495     Houston  Wisconsin     15740    8875976597  \n",
       "496    Colorado    Alabama     24848  877-033-1315  \n",
       "497   Santa Ana      Texas     50935    8949624432  \n",
       "498  Cincinnati    Indiana      9171  981-326-7739  \n",
       "\n",
       "[499 rows x 8 columns]>"
      ]
     },
     "execution_count": 42,
     "metadata": {},
     "output_type": "execute_result"
    }
   ],
   "source": [
    "customers.info"
   ]
  },
  {
   "cell_type": "code",
   "execution_count": 44,
   "id": "8ed0d322",
   "metadata": {},
   "outputs": [
    {
     "data": {
      "text/plain": [
       "(499, 8)"
      ]
     },
     "execution_count": 44,
     "metadata": {},
     "output_type": "execute_result"
    }
   ],
   "source": [
    "customers.shape"
   ]
  },
  {
   "cell_type": "code",
   "execution_count": 45,
   "id": "5d6e04f5",
   "metadata": {},
   "outputs": [
    {
     "data": {
      "text/plain": [
       "Index(['CustomerID', 'FirstName', 'LastName', 'StreetAddress', 'City', 'State',\n",
       "       'ZipeCode', 'Telephone'],\n",
       "      dtype='object')"
      ]
     },
     "execution_count": 45,
     "metadata": {},
     "output_type": "execute_result"
    }
   ],
   "source": [
    "customers.columns"
   ]
  },
  {
   "cell_type": "code",
   "execution_count": 46,
   "id": "47c3a1a2",
   "metadata": {},
   "outputs": [
    {
     "data": {
      "text/html": [
       "<div>\n",
       "<style scoped>\n",
       "    .dataframe tbody tr th:only-of-type {\n",
       "        vertical-align: middle;\n",
       "    }\n",
       "\n",
       "    .dataframe tbody tr th {\n",
       "        vertical-align: top;\n",
       "    }\n",
       "\n",
       "    .dataframe thead th {\n",
       "        text-align: right;\n",
       "    }\n",
       "</style>\n",
       "<table border=\"1\" class=\"dataframe\">\n",
       "  <thead>\n",
       "    <tr style=\"text-align: right;\">\n",
       "      <th></th>\n",
       "      <th>OrderID</th>\n",
       "      <th>CustomerID</th>\n",
       "    </tr>\n",
       "  </thead>\n",
       "  <tbody>\n",
       "    <tr>\n",
       "      <th>count</th>\n",
       "      <td>499.000000</td>\n",
       "      <td>499.000000</td>\n",
       "    </tr>\n",
       "    <tr>\n",
       "      <th>mean</th>\n",
       "      <td>202150.000000</td>\n",
       "      <td>1250.000000</td>\n",
       "    </tr>\n",
       "    <tr>\n",
       "      <th>std</th>\n",
       "      <td>144.193157</td>\n",
       "      <td>144.193157</td>\n",
       "    </tr>\n",
       "    <tr>\n",
       "      <th>min</th>\n",
       "      <td>201901.000000</td>\n",
       "      <td>1001.000000</td>\n",
       "    </tr>\n",
       "    <tr>\n",
       "      <th>25%</th>\n",
       "      <td>202025.500000</td>\n",
       "      <td>1125.500000</td>\n",
       "    </tr>\n",
       "    <tr>\n",
       "      <th>50%</th>\n",
       "      <td>202150.000000</td>\n",
       "      <td>1250.000000</td>\n",
       "    </tr>\n",
       "    <tr>\n",
       "      <th>75%</th>\n",
       "      <td>202274.500000</td>\n",
       "      <td>1374.500000</td>\n",
       "    </tr>\n",
       "    <tr>\n",
       "      <th>max</th>\n",
       "      <td>202399.000000</td>\n",
       "      <td>1499.000000</td>\n",
       "    </tr>\n",
       "  </tbody>\n",
       "</table>\n",
       "</div>"
      ],
      "text/plain": [
       "             OrderID   CustomerID\n",
       "count     499.000000   499.000000\n",
       "mean   202150.000000  1250.000000\n",
       "std       144.193157   144.193157\n",
       "min    201901.000000  1001.000000\n",
       "25%    202025.500000  1125.500000\n",
       "50%    202150.000000  1250.000000\n",
       "75%    202274.500000  1374.500000\n",
       "max    202399.000000  1499.000000"
      ]
     },
     "execution_count": 46,
     "metadata": {},
     "output_type": "execute_result"
    }
   ],
   "source": [
    "orders.describe()"
   ]
  },
  {
   "cell_type": "code",
   "execution_count": 47,
   "id": "3ffbca3a",
   "metadata": {},
   "outputs": [
    {
     "data": {
      "text/plain": [
       "<bound method DataFrame.info of      OrderID  CustomerID         SKU  \\\n",
       "0     201901        1001  BAS-08-1 C   \n",
       "1     201902        1002  BAS-24-1 C   \n",
       "2     201903        1003  BAS-48-1 C   \n",
       "3     201904        1004  ADV-24-10C   \n",
       "4     201905        1005  ADV-48-10F   \n",
       "..       ...         ...         ...   \n",
       "494   202395        1495  ENT-24-10F   \n",
       "495   202396        1496  BAS-48-1 C   \n",
       "496   202397        1497  BAS-48-1 C   \n",
       "497   202398        1498  BAS-08-1 C   \n",
       "498   202399        1499  ENT-48-40F   \n",
       "\n",
       "                                           Description  \n",
       "0               Basic Switch  10/100/1000 BaseT 8 port  \n",
       "1               Basic Switch 10/100/1000 BaseT 24 port  \n",
       "2               Basic Switch 10/100/1000 BaseT 48 port  \n",
       "3                Advanced Switch 10GigE Copper 24 port  \n",
       "4    Advanced Switch 10 GigE Copper/Fiber 44 port c...  \n",
       "..                                                 ...  \n",
       "494              Enterprise Switch 10GigE SFP+ 24 Port  \n",
       "495             Basic Switch 10/100/1000 BaseT 48 port  \n",
       "496             Basic Switch 10/100/1000 BaseT 48 port  \n",
       "497             Basic Switch  10/100/1000 BaseT 8 port  \n",
       "498             Enterprise Switch 40GigE SFP+ 48 port   \n",
       "\n",
       "[499 rows x 4 columns]>"
      ]
     },
     "execution_count": 47,
     "metadata": {},
     "output_type": "execute_result"
    }
   ],
   "source": [
    "orders.info"
   ]
  },
  {
   "cell_type": "code",
   "execution_count": 49,
   "id": "1c6c1e6f",
   "metadata": {},
   "outputs": [
    {
     "data": {
      "text/plain": [
       "(499, 4)"
      ]
     },
     "execution_count": 49,
     "metadata": {},
     "output_type": "execute_result"
    }
   ],
   "source": [
    "orders.shape"
   ]
  },
  {
   "cell_type": "code",
   "execution_count": 50,
   "id": "47d2170c",
   "metadata": {},
   "outputs": [
    {
     "data": {
      "text/plain": [
       "Index(['OrderID', 'CustomerID', 'SKU', 'Description'], dtype='object')"
      ]
     },
     "execution_count": 50,
     "metadata": {},
     "output_type": "execute_result"
    }
   ],
   "source": [
    "orders.columns"
   ]
  },
  {
   "cell_type": "code",
   "execution_count": 52,
   "id": "618bb6b1",
   "metadata": {},
   "outputs": [
    {
     "data": {
      "text/html": [
       "<div>\n",
       "<style scoped>\n",
       "    .dataframe tbody tr th:only-of-type {\n",
       "        vertical-align: middle;\n",
       "    }\n",
       "\n",
       "    .dataframe tbody tr th {\n",
       "        vertical-align: top;\n",
       "    }\n",
       "\n",
       "    .dataframe thead th {\n",
       "        text-align: right;\n",
       "    }\n",
       "</style>\n",
       "<table border=\"1\" class=\"dataframe\">\n",
       "  <thead>\n",
       "    <tr style=\"text-align: right;\">\n",
       "      <th></th>\n",
       "      <th>RMAID</th>\n",
       "      <th>OrderID</th>\n",
       "      <th>CustomerID</th>\n",
       "    </tr>\n",
       "  </thead>\n",
       "  <tbody>\n",
       "    <tr>\n",
       "      <th>count</th>\n",
       "      <td>499.000000</td>\n",
       "      <td>499.000000</td>\n",
       "      <td>499.000000</td>\n",
       "    </tr>\n",
       "    <tr>\n",
       "      <th>mean</th>\n",
       "      <td>707950.000000</td>\n",
       "      <td>202150.000000</td>\n",
       "      <td>1250.000000</td>\n",
       "    </tr>\n",
       "    <tr>\n",
       "      <th>std</th>\n",
       "      <td>144.193157</td>\n",
       "      <td>144.193157</td>\n",
       "      <td>144.193157</td>\n",
       "    </tr>\n",
       "    <tr>\n",
       "      <th>min</th>\n",
       "      <td>707701.000000</td>\n",
       "      <td>201901.000000</td>\n",
       "      <td>1001.000000</td>\n",
       "    </tr>\n",
       "    <tr>\n",
       "      <th>25%</th>\n",
       "      <td>707825.500000</td>\n",
       "      <td>202025.500000</td>\n",
       "      <td>1125.500000</td>\n",
       "    </tr>\n",
       "    <tr>\n",
       "      <th>50%</th>\n",
       "      <td>707950.000000</td>\n",
       "      <td>202150.000000</td>\n",
       "      <td>1250.000000</td>\n",
       "    </tr>\n",
       "    <tr>\n",
       "      <th>75%</th>\n",
       "      <td>708074.500000</td>\n",
       "      <td>202274.500000</td>\n",
       "      <td>1374.500000</td>\n",
       "    </tr>\n",
       "    <tr>\n",
       "      <th>max</th>\n",
       "      <td>708199.000000</td>\n",
       "      <td>202399.000000</td>\n",
       "      <td>1499.000000</td>\n",
       "    </tr>\n",
       "  </tbody>\n",
       "</table>\n",
       "</div>"
      ],
      "text/plain": [
       "               RMAID        OrderID   CustomerID\n",
       "count     499.000000     499.000000   499.000000\n",
       "mean   707950.000000  202150.000000  1250.000000\n",
       "std       144.193157     144.193157   144.193157\n",
       "min    707701.000000  201901.000000  1001.000000\n",
       "25%    707825.500000  202025.500000  1125.500000\n",
       "50%    707950.000000  202150.000000  1250.000000\n",
       "75%    708074.500000  202274.500000  1374.500000\n",
       "max    708199.000000  202399.000000  1499.000000"
      ]
     },
     "execution_count": 52,
     "metadata": {},
     "output_type": "execute_result"
    }
   ],
   "source": [
    "routers.describe()"
   ]
  },
  {
   "cell_type": "code",
   "execution_count": 53,
   "id": "36d4b9b5",
   "metadata": {},
   "outputs": [
    {
     "data": {
      "text/plain": [
       "<bound method DataFrame.info of       RMAID  OrderID                                          Status  \\\n",
       "0    707701   201901               SDJGDUVYIHOJZ0OYMUNORAGYPLUN7UUSU   \n",
       "1    707702   201902                                              GA   \n",
       "2    707703   201903                      FK2VI2NO4CDFK6M7BCZODTNICM   \n",
       "3    707704   201904                       HQW3WX6CHP02E604FF76NF5LQ   \n",
       "4    707705   201905           J8ES48BYNXNICRDBW1E8L2V74LPI0UV7GOEIA   \n",
       "..      ...      ...                                             ...   \n",
       "494  708195   202395  792BMH7TNT2OCCSG4Z5Z628WWCOMQUC14FO8LUFESS0AWX   \n",
       "495  708196   202396                   JCD4IP4NYFESG46DH2P7D64RJG9I4   \n",
       "496  708197   202397    3YV4X1S8RWE2BCXNPDANSKCIF42LLGIYZHDOQQSLG6CK   \n",
       "497  708198   202398                                     XK1RE0P0AJ0   \n",
       "498  708199   202399                                            1PNC   \n",
       "\n",
       "         Step     Reason  CustomerID  \n",
       "0    Complete  Incorrect        1001  \n",
       "1    Complete  Incorrect        1002  \n",
       "2    Complete  Incorrect        1003  \n",
       "3    Complete  Incorrect        1004  \n",
       "4    Complete  Incorrect        1005  \n",
       "..        ...        ...         ...  \n",
       "494  Complete  Incorrect        1495  \n",
       "495  Complete  Incorrect        1496  \n",
       "496  Complete  Defective        1497  \n",
       "497  Complete  Defective        1498  \n",
       "498  Complete  Incorrect        1499  \n",
       "\n",
       "[499 rows x 6 columns]>"
      ]
     },
     "execution_count": 53,
     "metadata": {},
     "output_type": "execute_result"
    }
   ],
   "source": [
    "routers.info"
   ]
  },
  {
   "cell_type": "code",
   "execution_count": 54,
   "id": "9edfd84c",
   "metadata": {},
   "outputs": [
    {
     "data": {
      "text/plain": [
       "(499, 6)"
      ]
     },
     "execution_count": 54,
     "metadata": {},
     "output_type": "execute_result"
    }
   ],
   "source": [
    "routers.shape"
   ]
  },
  {
   "cell_type": "code",
   "execution_count": 55,
   "id": "b95cccd2",
   "metadata": {},
   "outputs": [
    {
     "data": {
      "text/plain": [
       "Index(['RMAID', 'OrderID', 'Status', 'Step', 'Reason', 'CustomerID'], dtype='object')"
      ]
     },
     "execution_count": 55,
     "metadata": {},
     "output_type": "execute_result"
    }
   ],
   "source": [
    "routers.columns"
   ]
  },
  {
   "cell_type": "markdown",
   "id": "ba9c9f46",
   "metadata": {},
   "source": [
    "## Merged Datasets"
   ]
  },
  {
   "cell_type": "code",
   "execution_count": 56,
   "id": "9ffa2b7f",
   "metadata": {},
   "outputs": [],
   "source": [
    "# Merge datasets based on CustomerID\n",
    "merged_data = pd.merge( routers, customers, on=\"CustomerID\")\n",
    "merged_data1 = pd.merge( routers, orders, on=\"CustomerID\")"
   ]
  },
  {
   "cell_type": "code",
   "execution_count": 57,
   "id": "8a4fdd1d",
   "metadata": {
    "scrolled": true
   },
   "outputs": [
    {
     "data": {
      "text/html": [
       "<div>\n",
       "<style scoped>\n",
       "    .dataframe tbody tr th:only-of-type {\n",
       "        vertical-align: middle;\n",
       "    }\n",
       "\n",
       "    .dataframe tbody tr th {\n",
       "        vertical-align: top;\n",
       "    }\n",
       "\n",
       "    .dataframe thead th {\n",
       "        text-align: right;\n",
       "    }\n",
       "</style>\n",
       "<table border=\"1\" class=\"dataframe\">\n",
       "  <thead>\n",
       "    <tr style=\"text-align: right;\">\n",
       "      <th></th>\n",
       "      <th>RMAID</th>\n",
       "      <th>OrderID</th>\n",
       "      <th>CustomerID</th>\n",
       "      <th>ZipeCode</th>\n",
       "    </tr>\n",
       "  </thead>\n",
       "  <tbody>\n",
       "    <tr>\n",
       "      <th>count</th>\n",
       "      <td>499.000000</td>\n",
       "      <td>499.000000</td>\n",
       "      <td>499.000000</td>\n",
       "      <td>499.000000</td>\n",
       "    </tr>\n",
       "    <tr>\n",
       "      <th>mean</th>\n",
       "      <td>707950.000000</td>\n",
       "      <td>202150.000000</td>\n",
       "      <td>1250.000000</td>\n",
       "      <td>47223.328657</td>\n",
       "    </tr>\n",
       "    <tr>\n",
       "      <th>std</th>\n",
       "      <td>144.193157</td>\n",
       "      <td>144.193157</td>\n",
       "      <td>144.193157</td>\n",
       "      <td>27947.875892</td>\n",
       "    </tr>\n",
       "    <tr>\n",
       "      <th>min</th>\n",
       "      <td>707701.000000</td>\n",
       "      <td>201901.000000</td>\n",
       "      <td>1001.000000</td>\n",
       "      <td>178.000000</td>\n",
       "    </tr>\n",
       "    <tr>\n",
       "      <th>25%</th>\n",
       "      <td>707825.500000</td>\n",
       "      <td>202025.500000</td>\n",
       "      <td>1125.500000</td>\n",
       "      <td>24840.000000</td>\n",
       "    </tr>\n",
       "    <tr>\n",
       "      <th>50%</th>\n",
       "      <td>707950.000000</td>\n",
       "      <td>202150.000000</td>\n",
       "      <td>1250.000000</td>\n",
       "      <td>44403.000000</td>\n",
       "    </tr>\n",
       "    <tr>\n",
       "      <th>75%</th>\n",
       "      <td>708074.500000</td>\n",
       "      <td>202274.500000</td>\n",
       "      <td>1374.500000</td>\n",
       "      <td>69149.500000</td>\n",
       "    </tr>\n",
       "    <tr>\n",
       "      <th>max</th>\n",
       "      <td>708199.000000</td>\n",
       "      <td>202399.000000</td>\n",
       "      <td>1499.000000</td>\n",
       "      <td>99629.000000</td>\n",
       "    </tr>\n",
       "  </tbody>\n",
       "</table>\n",
       "</div>"
      ],
      "text/plain": [
       "               RMAID        OrderID   CustomerID      ZipeCode\n",
       "count     499.000000     499.000000   499.000000    499.000000\n",
       "mean   707950.000000  202150.000000  1250.000000  47223.328657\n",
       "std       144.193157     144.193157   144.193157  27947.875892\n",
       "min    707701.000000  201901.000000  1001.000000    178.000000\n",
       "25%    707825.500000  202025.500000  1125.500000  24840.000000\n",
       "50%    707950.000000  202150.000000  1250.000000  44403.000000\n",
       "75%    708074.500000  202274.500000  1374.500000  69149.500000\n",
       "max    708199.000000  202399.000000  1499.000000  99629.000000"
      ]
     },
     "execution_count": 57,
     "metadata": {},
     "output_type": "execute_result"
    }
   ],
   "source": [
    "merged_data.describe()"
   ]
  },
  {
   "cell_type": "code",
   "execution_count": 58,
   "id": "7bd2964b",
   "metadata": {},
   "outputs": [
    {
     "data": {
      "text/plain": [
       "<bound method DataFrame.info of       RMAID  OrderID                                          Status  \\\n",
       "0    707701   201901               SDJGDUVYIHOJZ0OYMUNORAGYPLUN7UUSU   \n",
       "1    707702   201902                                              GA   \n",
       "2    707703   201903                      FK2VI2NO4CDFK6M7BCZODTNICM   \n",
       "3    707704   201904                       HQW3WX6CHP02E604FF76NF5LQ   \n",
       "4    707705   201905           J8ES48BYNXNICRDBW1E8L2V74LPI0UV7GOEIA   \n",
       "..      ...      ...                                             ...   \n",
       "494  708195   202395  792BMH7TNT2OCCSG4Z5Z628WWCOMQUC14FO8LUFESS0AWX   \n",
       "495  708196   202396                   JCD4IP4NYFESG46DH2P7D64RJG9I4   \n",
       "496  708197   202397    3YV4X1S8RWE2BCXNPDANSKCIF42LLGIYZHDOQQSLG6CK   \n",
       "497  708198   202398                                     XK1RE0P0AJ0   \n",
       "498  708199   202399                                            1PNC   \n",
       "\n",
       "         Step     Reason  CustomerID  FirstName  LastName  \\\n",
       "0    Complete  Incorrect        1001     Wesley   Solomon   \n",
       "1    Complete  Incorrect        1002       Dean   Bernard   \n",
       "2    Complete  Incorrect        1003    Valerie  Schwartz   \n",
       "3    Complete  Incorrect        1004    Loretta     Ewing   \n",
       "4    Complete  Incorrect        1005       Noah      Boyd   \n",
       "..        ...        ...         ...        ...       ...   \n",
       "494  Complete  Incorrect        1495    Melissa   Miranda   \n",
       "495  Complete  Incorrect        1496  Gabrielle    Pierce   \n",
       "496  Complete  Defective        1497     Ginger   O'Neill   \n",
       "497  Complete  Defective        1498      Ramon     Rubio   \n",
       "498  Complete  Incorrect        1499      Frank     Walls   \n",
       "\n",
       "                    StreetAddress        City      State  ZipeCode  \\\n",
       "0      175 Green Clarendon Avenue      Toledo       Utah     55933   \n",
       "1               956 Second Street  Washington      Texas     94778   \n",
       "2                83 Milton Avenue       Miami   Nebraska     67569   \n",
       "3             565 White First St.     Phoenix   Delaware     39399   \n",
       "4       35 South Green Oak Avenue     Detroit    Montana     59454   \n",
       "..                            ...         ...        ...       ...   \n",
       "494                   28 Old Road    Portland     Oregon     22619   \n",
       "495              74 Fabien Avenue     Houston  Wisconsin     15740   \n",
       "496  83 Green Clarendon Boulevard    Colorado    Alabama     24848   \n",
       "497               13 West Old St.   Santa Ana      Texas     50935   \n",
       "498          952 White Nobel Road  Cincinnati    Indiana      9171   \n",
       "\n",
       "        Telephone  \n",
       "0      9613675297  \n",
       "1      6294571987  \n",
       "2    679-609-0243  \n",
       "3     239407-8990  \n",
       "4     436931-2419  \n",
       "..            ...  \n",
       "494  122-879-9719  \n",
       "495    8875976597  \n",
       "496  877-033-1315  \n",
       "497    8949624432  \n",
       "498  981-326-7739  \n",
       "\n",
       "[499 rows x 13 columns]>"
      ]
     },
     "execution_count": 58,
     "metadata": {},
     "output_type": "execute_result"
    }
   ],
   "source": [
    "merged_data.info"
   ]
  },
  {
   "cell_type": "code",
   "execution_count": 59,
   "id": "7e78969e",
   "metadata": {},
   "outputs": [
    {
     "data": {
      "text/plain": [
       "(499, 13)"
      ]
     },
     "execution_count": 59,
     "metadata": {},
     "output_type": "execute_result"
    }
   ],
   "source": [
    "merged_data.shape"
   ]
  },
  {
   "cell_type": "code",
   "execution_count": 60,
   "id": "5dd45b84",
   "metadata": {},
   "outputs": [
    {
     "data": {
      "text/plain": [
       "Index(['RMAID', 'OrderID', 'Status', 'Step', 'Reason', 'CustomerID',\n",
       "       'FirstName', 'LastName', 'StreetAddress', 'City', 'State', 'ZipeCode',\n",
       "       'Telephone'],\n",
       "      dtype='object')"
      ]
     },
     "execution_count": 60,
     "metadata": {},
     "output_type": "execute_result"
    }
   ],
   "source": [
    "merged_data.columns"
   ]
  },
  {
   "cell_type": "code",
   "execution_count": 61,
   "id": "d999cbea",
   "metadata": {},
   "outputs": [
    {
     "data": {
      "text/html": [
       "<div>\n",
       "<style scoped>\n",
       "    .dataframe tbody tr th:only-of-type {\n",
       "        vertical-align: middle;\n",
       "    }\n",
       "\n",
       "    .dataframe tbody tr th {\n",
       "        vertical-align: top;\n",
       "    }\n",
       "\n",
       "    .dataframe thead th {\n",
       "        text-align: right;\n",
       "    }\n",
       "</style>\n",
       "<table border=\"1\" class=\"dataframe\">\n",
       "  <thead>\n",
       "    <tr style=\"text-align: right;\">\n",
       "      <th></th>\n",
       "      <th>RMAID</th>\n",
       "      <th>OrderID_x</th>\n",
       "      <th>CustomerID</th>\n",
       "      <th>OrderID_y</th>\n",
       "    </tr>\n",
       "  </thead>\n",
       "  <tbody>\n",
       "    <tr>\n",
       "      <th>count</th>\n",
       "      <td>499.000000</td>\n",
       "      <td>499.000000</td>\n",
       "      <td>499.000000</td>\n",
       "      <td>499.000000</td>\n",
       "    </tr>\n",
       "    <tr>\n",
       "      <th>mean</th>\n",
       "      <td>707950.000000</td>\n",
       "      <td>202150.000000</td>\n",
       "      <td>1250.000000</td>\n",
       "      <td>202150.000000</td>\n",
       "    </tr>\n",
       "    <tr>\n",
       "      <th>std</th>\n",
       "      <td>144.193157</td>\n",
       "      <td>144.193157</td>\n",
       "      <td>144.193157</td>\n",
       "      <td>144.193157</td>\n",
       "    </tr>\n",
       "    <tr>\n",
       "      <th>min</th>\n",
       "      <td>707701.000000</td>\n",
       "      <td>201901.000000</td>\n",
       "      <td>1001.000000</td>\n",
       "      <td>201901.000000</td>\n",
       "    </tr>\n",
       "    <tr>\n",
       "      <th>25%</th>\n",
       "      <td>707825.500000</td>\n",
       "      <td>202025.500000</td>\n",
       "      <td>1125.500000</td>\n",
       "      <td>202025.500000</td>\n",
       "    </tr>\n",
       "    <tr>\n",
       "      <th>50%</th>\n",
       "      <td>707950.000000</td>\n",
       "      <td>202150.000000</td>\n",
       "      <td>1250.000000</td>\n",
       "      <td>202150.000000</td>\n",
       "    </tr>\n",
       "    <tr>\n",
       "      <th>75%</th>\n",
       "      <td>708074.500000</td>\n",
       "      <td>202274.500000</td>\n",
       "      <td>1374.500000</td>\n",
       "      <td>202274.500000</td>\n",
       "    </tr>\n",
       "    <tr>\n",
       "      <th>max</th>\n",
       "      <td>708199.000000</td>\n",
       "      <td>202399.000000</td>\n",
       "      <td>1499.000000</td>\n",
       "      <td>202399.000000</td>\n",
       "    </tr>\n",
       "  </tbody>\n",
       "</table>\n",
       "</div>"
      ],
      "text/plain": [
       "               RMAID      OrderID_x   CustomerID      OrderID_y\n",
       "count     499.000000     499.000000   499.000000     499.000000\n",
       "mean   707950.000000  202150.000000  1250.000000  202150.000000\n",
       "std       144.193157     144.193157   144.193157     144.193157\n",
       "min    707701.000000  201901.000000  1001.000000  201901.000000\n",
       "25%    707825.500000  202025.500000  1125.500000  202025.500000\n",
       "50%    707950.000000  202150.000000  1250.000000  202150.000000\n",
       "75%    708074.500000  202274.500000  1374.500000  202274.500000\n",
       "max    708199.000000  202399.000000  1499.000000  202399.000000"
      ]
     },
     "execution_count": 61,
     "metadata": {},
     "output_type": "execute_result"
    }
   ],
   "source": [
    "merged_data1.describe()"
   ]
  },
  {
   "cell_type": "code",
   "execution_count": 62,
   "id": "0fc82d00",
   "metadata": {},
   "outputs": [
    {
     "data": {
      "text/plain": [
       "(499, 9)"
      ]
     },
     "execution_count": 62,
     "metadata": {},
     "output_type": "execute_result"
    }
   ],
   "source": [
    "merged_data1.shape"
   ]
  },
  {
   "cell_type": "code",
   "execution_count": 63,
   "id": "517be869",
   "metadata": {},
   "outputs": [
    {
     "data": {
      "text/plain": [
       "<bound method DataFrame.info of       RMAID  OrderID_x                                          Status  \\\n",
       "0    707701     201901               SDJGDUVYIHOJZ0OYMUNORAGYPLUN7UUSU   \n",
       "1    707702     201902                                              GA   \n",
       "2    707703     201903                      FK2VI2NO4CDFK6M7BCZODTNICM   \n",
       "3    707704     201904                       HQW3WX6CHP02E604FF76NF5LQ   \n",
       "4    707705     201905           J8ES48BYNXNICRDBW1E8L2V74LPI0UV7GOEIA   \n",
       "..      ...        ...                                             ...   \n",
       "494  708195     202395  792BMH7TNT2OCCSG4Z5Z628WWCOMQUC14FO8LUFESS0AWX   \n",
       "495  708196     202396                   JCD4IP4NYFESG46DH2P7D64RJG9I4   \n",
       "496  708197     202397    3YV4X1S8RWE2BCXNPDANSKCIF42LLGIYZHDOQQSLG6CK   \n",
       "497  708198     202398                                     XK1RE0P0AJ0   \n",
       "498  708199     202399                                            1PNC   \n",
       "\n",
       "         Step     Reason  CustomerID  OrderID_y         SKU  \\\n",
       "0    Complete  Incorrect        1001     201901  BAS-08-1 C   \n",
       "1    Complete  Incorrect        1002     201902  BAS-24-1 C   \n",
       "2    Complete  Incorrect        1003     201903  BAS-48-1 C   \n",
       "3    Complete  Incorrect        1004     201904  ADV-24-10C   \n",
       "4    Complete  Incorrect        1005     201905  ADV-48-10F   \n",
       "..        ...        ...         ...        ...         ...   \n",
       "494  Complete  Incorrect        1495     202395  ENT-24-10F   \n",
       "495  Complete  Incorrect        1496     202396  BAS-48-1 C   \n",
       "496  Complete  Defective        1497     202397  BAS-48-1 C   \n",
       "497  Complete  Defective        1498     202398  BAS-08-1 C   \n",
       "498  Complete  Incorrect        1499     202399  ENT-48-40F   \n",
       "\n",
       "                                           Description  \n",
       "0               Basic Switch  10/100/1000 BaseT 8 port  \n",
       "1               Basic Switch 10/100/1000 BaseT 24 port  \n",
       "2               Basic Switch 10/100/1000 BaseT 48 port  \n",
       "3                Advanced Switch 10GigE Copper 24 port  \n",
       "4    Advanced Switch 10 GigE Copper/Fiber 44 port c...  \n",
       "..                                                 ...  \n",
       "494              Enterprise Switch 10GigE SFP+ 24 Port  \n",
       "495             Basic Switch 10/100/1000 BaseT 48 port  \n",
       "496             Basic Switch 10/100/1000 BaseT 48 port  \n",
       "497             Basic Switch  10/100/1000 BaseT 8 port  \n",
       "498             Enterprise Switch 40GigE SFP+ 48 port   \n",
       "\n",
       "[499 rows x 9 columns]>"
      ]
     },
     "execution_count": 63,
     "metadata": {},
     "output_type": "execute_result"
    }
   ],
   "source": [
    "merged_data1.info"
   ]
  },
  {
   "cell_type": "code",
   "execution_count": 64,
   "id": "e977f018",
   "metadata": {},
   "outputs": [
    {
     "data": {
      "text/plain": [
       "Index(['RMAID', 'OrderID_x', 'Status', 'Step', 'Reason', 'CustomerID',\n",
       "       'OrderID_y', 'SKU', 'Description'],\n",
       "      dtype='object')"
      ]
     },
     "execution_count": 64,
     "metadata": {},
     "output_type": "execute_result"
    }
   ],
   "source": [
    "merged_data"
   ]
  },
  {
   "cell_type": "code",
   "execution_count": 7,
   "id": "9db2b2fe",
   "metadata": {},
   "outputs": [
    {
     "data": {
      "text/html": [
       "<div>\n",
       "<style scoped>\n",
       "    .dataframe tbody tr th:only-of-type {\n",
       "        vertical-align: middle;\n",
       "    }\n",
       "\n",
       "    .dataframe tbody tr th {\n",
       "        vertical-align: top;\n",
       "    }\n",
       "\n",
       "    .dataframe thead th {\n",
       "        text-align: right;\n",
       "    }\n",
       "</style>\n",
       "<table border=\"1\" class=\"dataframe\">\n",
       "  <thead>\n",
       "    <tr style=\"text-align: right;\">\n",
       "      <th></th>\n",
       "      <th>RMAID</th>\n",
       "      <th>OrderID</th>\n",
       "      <th>Status</th>\n",
       "      <th>Step</th>\n",
       "      <th>Reason</th>\n",
       "      <th>CustomerID</th>\n",
       "      <th>FirstName</th>\n",
       "      <th>LastName</th>\n",
       "      <th>StreetAddress</th>\n",
       "      <th>City</th>\n",
       "      <th>State</th>\n",
       "      <th>ZipeCode</th>\n",
       "      <th>Telephone</th>\n",
       "    </tr>\n",
       "  </thead>\n",
       "  <tbody>\n",
       "    <tr>\n",
       "      <th>0</th>\n",
       "      <td>707701</td>\n",
       "      <td>201901</td>\n",
       "      <td>SDJGDUVYIHOJZ0OYMUNORAGYPLUN7UUSU</td>\n",
       "      <td>Complete</td>\n",
       "      <td>Incorrect</td>\n",
       "      <td>1001</td>\n",
       "      <td>Wesley</td>\n",
       "      <td>Solomon</td>\n",
       "      <td>175 Green Clarendon Avenue</td>\n",
       "      <td>Toledo</td>\n",
       "      <td>Utah</td>\n",
       "      <td>55933</td>\n",
       "      <td>9613675297</td>\n",
       "    </tr>\n",
       "    <tr>\n",
       "      <th>1</th>\n",
       "      <td>707702</td>\n",
       "      <td>201902</td>\n",
       "      <td>GA</td>\n",
       "      <td>Complete</td>\n",
       "      <td>Incorrect</td>\n",
       "      <td>1002</td>\n",
       "      <td>Dean</td>\n",
       "      <td>Bernard</td>\n",
       "      <td>956 Second Street</td>\n",
       "      <td>Washington</td>\n",
       "      <td>Texas</td>\n",
       "      <td>94778</td>\n",
       "      <td>6294571987</td>\n",
       "    </tr>\n",
       "    <tr>\n",
       "      <th>2</th>\n",
       "      <td>707703</td>\n",
       "      <td>201903</td>\n",
       "      <td>FK2VI2NO4CDFK6M7BCZODTNICM</td>\n",
       "      <td>Complete</td>\n",
       "      <td>Incorrect</td>\n",
       "      <td>1003</td>\n",
       "      <td>Valerie</td>\n",
       "      <td>Schwartz</td>\n",
       "      <td>83 Milton Avenue</td>\n",
       "      <td>Miami</td>\n",
       "      <td>Nebraska</td>\n",
       "      <td>67569</td>\n",
       "      <td>679-609-0243</td>\n",
       "    </tr>\n",
       "    <tr>\n",
       "      <th>3</th>\n",
       "      <td>707704</td>\n",
       "      <td>201904</td>\n",
       "      <td>HQW3WX6CHP02E604FF76NF5LQ</td>\n",
       "      <td>Complete</td>\n",
       "      <td>Incorrect</td>\n",
       "      <td>1004</td>\n",
       "      <td>Loretta</td>\n",
       "      <td>Ewing</td>\n",
       "      <td>565 White First St.</td>\n",
       "      <td>Phoenix</td>\n",
       "      <td>Delaware</td>\n",
       "      <td>39399</td>\n",
       "      <td>239407-8990</td>\n",
       "    </tr>\n",
       "    <tr>\n",
       "      <th>4</th>\n",
       "      <td>707705</td>\n",
       "      <td>201905</td>\n",
       "      <td>J8ES48BYNXNICRDBW1E8L2V74LPI0UV7GOEIA</td>\n",
       "      <td>Complete</td>\n",
       "      <td>Incorrect</td>\n",
       "      <td>1005</td>\n",
       "      <td>Noah</td>\n",
       "      <td>Boyd</td>\n",
       "      <td>35 South Green Oak Avenue</td>\n",
       "      <td>Detroit</td>\n",
       "      <td>Montana</td>\n",
       "      <td>59454</td>\n",
       "      <td>436931-2419</td>\n",
       "    </tr>\n",
       "  </tbody>\n",
       "</table>\n",
       "</div>"
      ],
      "text/plain": [
       "    RMAID  OrderID                                 Status      Step  \\\n",
       "0  707701   201901      SDJGDUVYIHOJZ0OYMUNORAGYPLUN7UUSU  Complete   \n",
       "1  707702   201902                                     GA  Complete   \n",
       "2  707703   201903             FK2VI2NO4CDFK6M7BCZODTNICM  Complete   \n",
       "3  707704   201904              HQW3WX6CHP02E604FF76NF5LQ  Complete   \n",
       "4  707705   201905  J8ES48BYNXNICRDBW1E8L2V74LPI0UV7GOEIA  Complete   \n",
       "\n",
       "      Reason  CustomerID FirstName  LastName               StreetAddress  \\\n",
       "0  Incorrect        1001    Wesley   Solomon  175 Green Clarendon Avenue   \n",
       "1  Incorrect        1002      Dean   Bernard           956 Second Street   \n",
       "2  Incorrect        1003   Valerie  Schwartz            83 Milton Avenue   \n",
       "3  Incorrect        1004   Loretta     Ewing         565 White First St.   \n",
       "4  Incorrect        1005      Noah      Boyd   35 South Green Oak Avenue   \n",
       "\n",
       "         City     State  ZipeCode     Telephone  \n",
       "0      Toledo      Utah     55933    9613675297  \n",
       "1  Washington     Texas     94778    6294571987  \n",
       "2       Miami  Nebraska     67569  679-609-0243  \n",
       "3     Phoenix  Delaware     39399   239407-8990  \n",
       "4     Detroit   Montana     59454   436931-2419  "
      ]
     },
     "execution_count": 7,
     "metadata": {},
     "output_type": "execute_result"
    }
   ],
   "source": [
    "merged_data.head()"
   ]
  },
  {
   "cell_type": "markdown",
   "id": "60232225",
   "metadata": {},
   "source": [
    "## Data Cleaning"
   ]
  },
  {
   "cell_type": "code",
   "execution_count": 71,
   "id": "b30aa6d8",
   "metadata": {},
   "outputs": [],
   "source": [
    "# Drop rows with any missing values\n",
    "merged_data = merged_data.isna()"
   ]
  },
  {
   "cell_type": "code",
   "execution_count": 72,
   "id": "a97fd15c",
   "metadata": {},
   "outputs": [],
   "source": [
    "# Drop rows with any missing values\n",
    "merged_data1 = merged_data.isna()"
   ]
  },
  {
   "cell_type": "code",
   "execution_count": 73,
   "id": "c49bde8c",
   "metadata": {},
   "outputs": [],
   "source": [
    "# Drop rows with any missing values\n",
    "merged_data = merged_data.dropna()"
   ]
  },
  {
   "cell_type": "code",
   "execution_count": 74,
   "id": "25d18379",
   "metadata": {},
   "outputs": [],
   "source": [
    "# Drop rows with any missing values\n",
    "merged_data1 = merged_data1.dropna()"
   ]
  },
  {
   "cell_type": "markdown",
   "id": "f2641018",
   "metadata": {},
   "source": [
    "## Analysis & Visualizations"
   ]
  },
  {
   "cell_type": "code",
   "execution_count": 8,
   "id": "74773c58",
   "metadata": {},
   "outputs": [],
   "source": [
    "# Exploratory Data Analysis (EDA)"
   ]
  },
  {
   "cell_type": "markdown",
   "id": "ca37f2d5",
   "metadata": {},
   "source": [
    "### Count of orders from customers by state"
   ]
  },
  {
   "cell_type": "code",
   "execution_count": 9,
   "id": "223d43d7",
   "metadata": {},
   "outputs": [],
   "source": [
    "orders_by_state = merged_data.groupby('State')['OrderID'].count()"
   ]
  },
  {
   "cell_type": "code",
   "execution_count": 10,
   "id": "96e025c8",
   "metadata": {},
   "outputs": [
    {
     "data": {
      "image/png": "[encoded data removed]",
      "text/plain": [
       "<Figure size 720x432 with 1 Axes>"
      ]
     },
     "metadata": {
      "needs_background": "light"
     },
     "output_type": "display_data"
    }
   ],
   "source": [
    "plt.figure(figsize=(10, 6))\n",
    "orders_by_state.plot(kind='bar')\n",
    "plt.xlabel('State')\n",
    "plt.ylabel('Number of Orders')\n",
    "plt.title('Count of Orders from Customers by State')\n",
    "plt.xticks(rotation=45)\n",
    "plt.show()\n"
   ]
  },
  {
   "cell_type": "markdown",
   "id": "3ca1f172",
   "metadata": {},
   "source": [
    "### Count of orders by City"
   ]
  },
  {
   "cell_type": "code",
   "execution_count": 11,
   "id": "38be7bdc",
   "metadata": {},
   "outputs": [],
   "source": [
    "# 2) The count of orders from customers by city (Column Chart)\n",
    "orders_by_city = merged_data.groupby('City')['OrderID'].count().sort_values(ascending=False).head(10)"
   ]
  },
  {
   "cell_type": "code",
   "execution_count": 12,
   "id": "2caa2921",
   "metadata": {},
   "outputs": [
    {
     "data": {
      "image/png": "[encoded data removed]",
      "text/plain": [
       "<Figure size 864x432 with 1 Axes>"
      ]
     },
     "metadata": {
      "needs_background": "light"
     },
     "output_type": "display_data"
    }
   ],
   "source": [
    "plt.figure(figsize=(12, 6))\n",
    "orders_by_city.plot(kind='bar', color='orange')\n",
    "plt.title('Count of Orders from Customers by City (Top 10)')\n",
    "plt.xlabel('City')\n",
    "plt.ylabel('Number of Orders')\n",
    "plt.xticks(rotation=45)\n",
    "plt.tight_layout()\n",
    "plt.show()"
   ]
  },
  {
   "cell_type": "markdown",
   "id": "8e54b62a",
   "metadata": {},
   "source": [
    "### Reasons for Router Return by Counts of Order ID"
   ]
  },
  {
   "cell_type": "code",
   "execution_count": 13,
   "id": "d118e654",
   "metadata": {},
   "outputs": [],
   "source": [
    "# 3) Reasons for router return by counts of order ID (Pie chart)\n",
    "router_return_reasons = merged_data.groupby('Reason')['OrderID'].count().sort_values(ascending=False).head(5)"
   ]
  },
  {
   "cell_type": "code",
   "execution_count": 14,
   "id": "a2c6e1c9",
   "metadata": {
    "scrolled": true
   },
   "outputs": [
    {
     "data": {
      "image/png": "[encoded data removed]",
      "text/plain": [
       "<Figure size 360x360 with 1 Axes>"
      ]
     },
     "metadata": {},
     "output_type": "display_data"
    }
   ],
   "source": [
    "plt.figure(figsize=(5, 5))\n",
    "plt.pie(router_return_reasons, labels=router_return_reasons.index, autopct='%1.1f%%', startangle=140)\n",
    "plt.title('Reasons for Router Return by Counts of Order ID')\n",
    "plt.axis('equal')  # Equal aspect ratio ensures that pie is drawn as a circle.\n",
    "plt.tight_layout()\n",
    "plt.show()"
   ]
  },
  {
   "cell_type": "markdown",
   "id": "54d1eb77",
   "metadata": {},
   "source": [
    "### Most popular router "
   ]
  },
  {
   "cell_type": "code",
   "execution_count": 15,
   "id": "bb99f7f2",
   "metadata": {},
   "outputs": [],
   "source": [
    "popular_routers = merged_data1[\"Description\"].value_counts().head(10)"
   ]
  },
  {
   "cell_type": "code",
   "execution_count": 19,
   "id": "8500272f",
   "metadata": {},
   "outputs": [
    {
     "data": {
      "image/png": "[encoded data removed]",
      "text/plain": [
       "<Figure size 432x288 with 1 Axes>"
      ]
     },
     "metadata": {
      "needs_background": "light"
     },
     "output_type": "display_data"
    }
   ],
   "source": [
    "popular_routers.plot(kind=\"bar\", color='darkred', alpha=0.7)\n",
    "plt.xlabel(\"Router Description\")\n",
    "plt.ylabel(\"Number of Orders\")\n",
    "plt.title(\"Most Popular Routers Ordered\")\n",
    "plt.show()"
   ]
  },
  {
   "cell_type": "code",
   "execution_count": 20,
   "id": "6423b0ed",
   "metadata": {},
   "outputs": [
    {
     "data": {
      "image/png": "[encoded data removed]",
      "text/plain": [
       "<Figure size 576x288 with 1 Axes>"
      ]
     },
     "metadata": {
      "needs_background": "light"
     },
     "output_type": "display_data"
    }
   ],
   "source": [
    "# Count the total number of orders for each SKU\n",
    "router_counts = merged_data1['SKU'].value_counts().sort_index()\n",
    "\n",
    "# Check if router_counts is empty before plotting\n",
    "if not router_counts.empty:\n",
    "    plt.figure(figsize=(8, 4))\n",
    "    router_counts.plot(kind='bar', color='darkred', alpha=0.7)\n",
    "    plt.title('Total Number of Router Orders by SKU')\n",
    "    plt.xlabel('Router SKU')\n",
    "    plt.ylabel('Number of Orders')\n",
    "    plt.xticks(rotation=45)\n",
    "    plt.tight_layout()\n",
    "    plt.show()\n",
    "else:\n",
    "    print(\"No router orders found in the dataset.\")"
   ]
  },
  {
   "cell_type": "code",
   "execution_count": 38,
   "id": "13e0b26e",
   "metadata": {
    "scrolled": false
   },
   "outputs": [
    {
     "data": {
      "image/png": "[encoded data removed]",
      "text/plain": [
       "<Figure size 360x360 with 1 Axes>"
      ]
     },
     "metadata": {},
     "output_type": "display_data"
    }
   ],
   "source": [
    "# Count the occurrences of each step completion\n",
    "step_counts = merged_data['Step'].value_counts()\n",
    "\n",
    "# Create a pie chart\n",
    "plt.figure(figsize=(5, 5))\n",
    "plt.pie(step_counts, labels=step_counts.index, autopct=\"%1.1f%%\")\n",
    "plt.title(\"Pie Chart of Step Completions\")\n",
    "plt.show()\n"
   ]
  },
  {
   "attachments": {},
   "cell_type": "markdown",
   "id": "1da415b2",
   "metadata": {},
   "source": [
    "All 499 orders processed were successfully completed. "
   ]
  },
  {
   "cell_type": "markdown",
   "id": "8168ce42",
   "metadata": {},
   "source": [
    "## Distribution"
   ]
  },
  {
   "cell_type": "code",
   "execution_count": 39,
   "id": "3a7e5436",
   "metadata": {},
   "outputs": [
    {
     "data": {
      "image/png": "[encoded data removed]",
      "text/plain": [
       "<Figure size 720x432 with 1 Axes>"
      ]
     },
     "metadata": {
      "needs_background": "light"
     },
     "output_type": "display_data"
    }
   ],
   "source": [
    "data = {\n",
    "    'RMAID': [707701, 707702, 707703, 707704, 707705, 707705, 707706, 707706],\n",
    "    # ... other columns\n",
    "}\n",
    "\n",
    "merged_data11 = pd.DataFrame(data)\n",
    "\n",
    "# Calculate frequency of each RMAID\n",
    "rmaid_counts = merged_data11['RMAID'].value_counts()\n",
    "\n",
    "# Plotting the histogram\n",
    "plt.figure(figsize=(10, 6))\n",
    "plt.hist(merged_data11['RMAID'], bins=len(rmaid_counts), color='skyblue', edgecolor='black')\n",
    "plt.title(\"Histogram of RMAID with Varying Frequencies\")\n",
    "plt.xlabel(\"RMAID\")\n",
    "plt.ylabel(\"Frequency\")\n",
    "plt.xticks(rotation=45)\n",
    "plt.tight_layout()\n",
    "plt.grid(axis='y', linestyle='--', alpha=0.7)\n",
    "plt.show()\n"
   ]
  },
  {
   "cell_type": "markdown",
   "id": "64ed18f6",
   "metadata": {},
   "source": [
    "The RMAID with varying frequencies is skewed to the left. The left tail is longer."
   ]
  },
  {
   "cell_type": "code",
   "execution_count": 30,
   "id": "66931b4c",
   "metadata": {},
   "outputs": [
    {
     "data": {
      "image/png": "[encoded data removed]",
      "text/plain": [
       "<Figure size 720x432 with 1 Axes>"
      ]
     },
     "metadata": {
      "needs_background": "light"
     },
     "output_type": "display_data"
    }
   ],
   "source": [
    "# Count the occurrences of each OrderID\n",
    "orders_by_state = merged_data.groupby('State')['OrderID'].count()\n",
    "plt.figure(figsize=(10, 6))\n",
    "plt.hist(merged_data1['RMAID'], bins=len(orders_by_state), color='darkred', edgecolor='black')\n",
    "plt.title(\"Histogram of RMAID with Varying Frequencies\")\n",
    "plt.xlabel(\"RMAID\")\n",
    "plt.ylabel(\"Frequency\")\n",
    "plt.xticks(rotation=45)\n",
    "plt.tight_layout()\n",
    "plt.grid(axis='y', linestyle='--', alpha=0.7)\n",
    "plt.show()"
   ]
  },
  {
   "cell_type": "markdown",
   "id": "a69eda8f",
   "metadata": {},
   "source": [
    "The order of routers by states displays a normal distribution."
   ]
  },
  {
   "cell_type": "code",
   "execution_count": 29,
   "id": "fc2d15bf",
   "metadata": {},
   "outputs": [
    {
     "data": {
      "image/png": "[encoded data removed]",
      "text/plain": [
       "<Figure size 720x432 with 1 Axes>"
      ]
     },
     "metadata": {
      "needs_background": "light"
     },
     "output_type": "display_data"
    }
   ],
   "source": [
    "# 3) Reasons for router return by counts of order ID (Pie chart)\n",
    "router_return_reasons = merged_data.groupby('Reason')['OrderID'].count().sort_values(ascending=False).head(5)\n",
    "plt.figure(figsize=(10, 6))\n",
    "plt.hist(merged_data1['RMAID'], bins=len(router_return_reasons), color='darkred', edgecolor='black')\n",
    "plt.title(\"Histogram of RMAID with Varying Frequencies\")\n",
    "plt.xlabel(\"RMAID\")\n",
    "plt.ylabel(\"Frequency\")\n",
    "plt.xticks(rotation=45)\n",
    "plt.tight_layout()\n",
    "plt.grid(axis='y', linestyle='--', alpha=0.7)\n",
    "plt.show()\n"
   ]
  },
  {
   "cell_type": "markdown",
   "id": "4a1dae0a",
   "metadata": {},
   "source": [
    "The Reasons for router return by counts of order ID are skewed to left since the tail is longer on left."
   ]
  },
  {
   "cell_type": "code",
   "execution_count": 40,
   "id": "bb840bdc",
   "metadata": {},
   "outputs": [
    {
     "data": {
      "image/png": "[encoded data removed]",
      "text/plain": [
       "<Figure size 576x432 with 1 Axes>"
      ]
     },
     "metadata": {
      "needs_background": "light"
     },
     "output_type": "display_data"
    }
   ],
   "source": [
    "# Plot 1: OrderID_x vs. OrderID_y\n",
    "plt.figure(figsize=(8, 6))\n",
    "plt.scatter(merged_data['OrderID'], merged_data['RMAID'], color='red', alpha=0.7)\n",
    "plt.title('Scatter Plot: OrderID_x vs. OrderID_y')\n",
    "plt.xlabel('OrderID_x')\n",
    "plt.ylabel('OrderID_y')\n",
    "plt.grid(True)\n",
    "plt.tight_layout()\n",
    "plt.show()\n"
   ]
  },
  {
   "cell_type": "markdown",
   "id": "b00368b2",
   "metadata": {},
   "source": [
    "The orders are distributed linearly."
   ]
  },
  {
   "cell_type": "code",
   "execution_count": null,
   "id": "e9c31ae9",
   "metadata": {},
   "outputs": [],
   "source": []
  }
 ],
 "metadata": {
  "kernelspec": {
   "display_name": "Python 3",
   "language": "python",
   "name": "python3"
  },
  "language_info": {
   "codemirror_mode": {
    "name": "ipython",
    "version": 3
   },
   "file_extension": ".py",
   "mimetype": "text/x-python",
   "name": "python",
   "nbconvert_exporter": "python",
   "pygments_lexer": "ipython3",
   "version": "3.8.8"
  }
 },
 "nbformat": 4,
 "nbformat_minor": 5
}
